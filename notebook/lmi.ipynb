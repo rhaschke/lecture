{
 "cells": [
  {
   "cell_type": "code",
   "execution_count": null,
   "metadata": {},
   "outputs": [],
   "source": [
    "import yaml\n",
    "import sympy\n",
    "import numpy as np\n",
    "import math\n",
    "# Semidefinite Programming solver\n",
    "import cvxopt\n",
    "# https://pypi.org/project/PyLMI-SDP is used to formulate LMIs\n",
    "from lmi_sdp import LMI_PD as LMI, lmi_to_coeffs, to_cvxopt\n",
    "from tf import transformations as tf\n",
    "from robot_model import adjoint\n",
    "\n",
    "np.set_printoptions(suppress=True, precision=1)  # print tiny values as zero"
   ]
  },
  {
   "cell_type": "code",
   "execution_count": null,
   "metadata": {},
   "outputs": [],
   "source": [
    "from IPython.display import Math\n",
    "import lmi_sdp\n",
    "lmi_sdp.init_lmi_latex_printing()\n",
    "\n",
    "def show(lmis, vars=None):\n",
    "\tif vars is not None:\n",
    "\t\tlmis = [lmi.expanded(vars) for lmi in lmis]\n",
    "\tlatex = r\"\\begin{{{env}}}{content}\\end{{{env}}}\".\\\n",
    "\t\tformat(env=\"gather\", content=r\" \\\\\".join([sympy.latex(lmi) for lmi in lmis]))\n",
    "\treturn Math(latex)"
   ]
  },
  {
   "cell_type": "code",
   "execution_count": null,
   "metadata": {},
   "outputs": [],
   "source": [
    "# Compute rotation matrix to rotate one vector onto another one\n",
    "def rotation_from_vectors(src, tgt):\n",
    "\tsrc = np.asarray(src, dtype=float)\n",
    "\ttgt = np.asarray(tgt, dtype=float)\n",
    "\tangle = math.acos(src.dot(tgt) / (np.linalg.norm(src) * np.linalg.norm(tgt)))\n",
    "\taxis = np.cross(src, tgt)\n",
    "\taxis *= 1. / np.linalg.norm(axis)  # normalize axis!\n",
    "\treturn tf.rotation_matrix(angle, axis)\n",
    "\n",
    "# Compute T^o_{c_i} from contact position and normal (in object frame)\n",
    "def transform_object_to_contact(position, normal):\n",
    "\t# TODO: Replace this dummy implementation with a working one!\n",
    "\treturn np.eye(4)"
   ]
  },
  {
   "cell_type": "code",
   "execution_count": null,
   "metadata": {},
   "outputs": [],
   "source": [
    "def visualize_grasp(file):\n",
    "\timport rospy\n",
    "\tfrom markers import arrow, box, cone, createPose\n",
    "\tfrom std_msgs.msg import Header, ColorRGBA\n",
    "\tfrom geometry_msgs.msg import Vector3, Point\n",
    "\tfrom visualization_msgs.msg import MarkerArray, Marker\n",
    "\n",
    "\tkwargs = dict(ns=\"object\", color=ColorRGBA(1, 1, 1, 0.1),\n",
    "\t              header=Header(frame_id=\"world\"))\n",
    "\tmsg=MarkerArray()\n",
    "\tmsg.markers.append(box(size=Vector3(1,2,2), pose=createPose(np.eye(4)), **kwargs))\n",
    "\tkwargs.update(ns=\"contact\", color=ColorRGBA(1, 0, 0, 0.5))\n",
    "\tsize = 0.5\n",
    "\tpoints=[]\n",
    "\n",
    "\tdef process(idx, position=None, normal=None, type=None, friction=0, torsion=0):\n",
    "\t\tpoints.append(np.asarray(position))\n",
    "\t\tkwargs.update(id=idx)\n",
    "\t\tif type == \"frictionless\":\n",
    "\t\t\tT = rotation_from_vectors([1, 0, 0], normal)  # rviz arrow points along x-axis\n",
    "\t\t\tT[:3, 3] = np.asarray(position)\n",
    "\t\t\tmsg.markers.append(arrow(len=size, pose=createPose(T), **kwargs))\n",
    "\t\telse:\n",
    "\t\t\thalf_angle = math.atan(friction)\n",
    "\t\t\tT = transform_object_to_contact(position, normal)\n",
    "\t\t\tmsg.markers.append(cone(half_angle, scale=size, pose=createPose(T), **kwargs))\n",
    "\t\n",
    "\twith open(file, \"r\") as stream:\n",
    "\t\tfor i, contact in enumerate(yaml.safe_load(stream)):\n",
    "\t\t\tprocess(i, **contact)\n",
    "\n",
    "\tif len(points) == 2:\n",
    "\t\t# draw a line conecting both contact points\n",
    "\t\tkwargs.update(ns=\"line\", id=100, color=ColorRGBA(0, 1, 0, 0.5))\n",
    "\t\tmsg.markers.append(Marker(type=Marker.LINE_STRIP, scale=Vector3(0.01, 0, 0),\n",
    "\t\t                          points=[Point(*p) for p in points], pose=createPose(np.eye(4)), **kwargs))\n",
    "\n",
    "\trospy.init_node(\"lmi\")\n",
    "\tpub = rospy.Publisher(\"contact_markers\", MarkerArray, queue_size=1, latch=True)\n",
    "\tpub.publish(msg)\n",
    "\trospy.sleep(1)\n",
    "\n",
    "\n",
    "visualize_grasp('contacts.yaml')"
   ]
  },
  {
   "cell_type": "code",
   "execution_count": null,
   "metadata": {},
   "outputs": [],
   "source": [
    "# Load contacts from file and generate the grasp matrix G and corresponding friction cones\n",
    "def load_grasp(file):\n",
    "\tdef contact(idx, position=None, normal=None, type=None, friction=0, torsion=0):\n",
    "\t\tif type == \"frictionless\":\n",
    "\t\t\tbasis = np.array([[0, 0, 1, 0, 0, 0]]).T\n",
    "\t\t\tvars = sympy.symbols([\"f^{}_z\".format(idx)])\n",
    "\t\t\tLMIs = [LMI(vars[0])]  # fz > 0\n",
    "\t\telse:\n",
    "\t\t\t# Coulomb friction\n",
    "\t\t\tbasis = np.vstack((np.identity(3), np.zeros((3, 3))))\n",
    "\t\t\tvars = sympy.symbols([\"f^{0}_{1}\".format(idx, comp) for comp in \"xyz\"])\n",
    "\t\t\tLMIs = [LMI(vars[0]*sympy.Matrix([[1, 0], [0, -1]]) + \n",
    "\t\t\t            vars[1]*sympy.Matrix([[0, 1], [1, 0]]) +\n",
    "\t\t\t            vars[2]*sympy.Matrix([[friction, 0], [0, friction]]))]\n",
    "\t\t\tif type == \"softfinger\":\n",
    "\t\t\t\tbasis = np.hstack((basis, np.array([[0, 0, 0, 0, 0, 1]]).T))\n",
    "\t\t\t\tvars += sympy.symbols([r\"\\tau^{}_z\".format(idx)])\n",
    "\t\t\t\tLMIs += [LMI(vars[2]*sympy.Matrix([[torsion, 0], [0, torsion]]) +\n",
    "\t\t\t\t             vars[3]*sympy.Matrix([[0, 1], [1, 0]]))]\n",
    "\n",
    "\t\tT = transform_object_to_contact(position, normal)\n",
    "\t\treturn adjoint(T, inverse=True).T.dot(basis), LMIs, vars\n",
    "\n",
    "\twith open(file, \"r\") as stream:\n",
    "\t\tcontacts = yaml.safe_load(stream)\n",
    "\t\n",
    "\tG = np.zeros((6,0))  # start with empty grasp matrix\n",
    "\tFC = []  # list of friction cone constraints\n",
    "\tvars = []  # list of free variables\n",
    "\tfor i, c in enumerate(contacts):\n",
    "\t\tGi, FCi, vi = contact(i+1, **c)\n",
    "\t\t# collect data from all contacts\n",
    "\t\tG = np.hstack((G, Gi))\n",
    "\t\tFC += FCi\n",
    "\t\tvars += vi\n",
    "\t\n",
    "\treturn G, FC, vars"
   ]
  },
  {
   "cell_type": "code",
   "execution_count": null,
   "metadata": {},
   "outputs": [],
   "source": [
    "# Rewrite LMIs from vars x into vars z using x = Az + b.\n",
    "# Using the notation from theorem 2.18 of the lecture script\n",
    "# https://lernraumplus.uni-bielefeld.de/pluginfile.php/592816/mod_resource/content/2/script.pdf#page=44\n",
    "def transform_LMIs(LMIs, x, A, b=None):\n",
    "\tA = sympy.Array(np.atleast_2d(A))\n",
    "\tm, l = A.shape\n",
    "\tif b is None:\n",
    "\t\tb = np.zeros(m)\n",
    "\telse:\n",
    "\t\tb = np.atleast_1d(b)\n",
    "\tz = sympy.Array(sympy.symbols([\"z_{}\".format(i+1) for i in range(l)]))\n",
    "\tj = sympy.Idx(\"j\", l)  # index running from 0 to l-1\n",
    "\n",
    "\ttransformed = [LMI(sympy.Matrix(S0 + sum([b[i]*Si[i] for i in range(m)])) +\n",
    "\t                   sympy.Sum(z[j] * sympy.Matrix(sum([A[i,j]*Si[i] for i in range(m)])), j).doit())\n",
    "\t               for Si, S0 in lmi_to_coeffs(LMIs, x, split_blocks=True)]\n",
    "\treturn transformed, z"
   ]
  },
  {
   "cell_type": "code",
   "execution_count": null,
   "metadata": {},
   "outputs": [],
   "source": [
    "def eval_force_closure(G, FC, vars):\n",
    "\t# TODO: Implement this!\n",
    "\treturn False"
   ]
  },
  {
   "cell_type": "code",
   "execution_count": null,
   "metadata": {},
   "outputs": [],
   "source": [
    "# Load grasp\n",
    "G, FC, vars = load_grasp('contacts.yaml')\n",
    "display(G) # and show its grasp matrix\n",
    "show(FC) # as well as friction constraints"
   ]
  },
  {
   "cell_type": "code",
   "execution_count": null,
   "metadata": {},
   "outputs": [],
   "source": [
    "# Example: Transform LMIs into new basis x = 2*z + 0\n",
    "FC, vars = transform_LMIs(FC, vars, 2*np.eye(G.shape[1]), np.zeros(G.shape[1]))\n",
    "show(FC)"
   ]
  },
  {
   "cell_type": "code",
   "execution_count": null,
   "metadata": {},
   "outputs": [],
   "source": [
    "eval_force_closure(G, FC, vars)"
   ]
  }
 ],
 "metadata": {
  "interpreter": {
   "hash": "916dbcbb3f70747c44a77c7bcd40155683ae19c65e1c03b4aa3499c5328201f1"
  },
  "kernelspec": {
   "display_name": "Python 3.8.10 64-bit",
   "language": "python",
   "name": "python3"
  },
  "language_info": {
   "codemirror_mode": {
    "name": "ipython",
    "version": 3
   },
   "file_extension": ".py",
   "mimetype": "text/x-python",
   "name": "python",
   "nbconvert_exporter": "python",
   "pygments_lexer": "ipython3",
   "version": "3.8.10"
  },
  "orig_nbformat": 4
 },
 "nbformat": 4,
 "nbformat_minor": 2
}
