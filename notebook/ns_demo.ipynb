{
 "cells": [
  {
   "cell_type": "markdown",
   "metadata": {},
   "source": [
    "### Launch the ROS demo"
   ]
  },
  {
   "cell_type": "code",
   "execution_count": null,
   "metadata": {},
   "outputs": [],
   "source": [
    "%%bash --bg\n",
    "trap 'kill $(jobs -p)' EXIT\n",
    "xterm -e /bin/bash -l -c \"roslaunch demo.launch\""
   ]
  },
  {
   "cell_type": "markdown",
   "metadata": {},
   "source": [
    "Create the controller and run it periodically in a thread"
   ]
  },
  {
   "cell_type": "code",
   "execution_count": null,
   "metadata": {},
   "outputs": [],
   "source": [
    "import rospy\n",
    "from threading import Thread\n",
    "from controller import Controller\n",
    "\n",
    "rospy.init_node('ns_demo')\n",
    "c = Controller()\n",
    "\n",
    "def worker():\n",
    "    rate = rospy.Rate(50)\n",
    "    while not rospy.is_shutdown():\n",
    "        c.pose_control(c.im_server.target)\n",
    "        rate.sleep()\n",
    "    \n",
    "t = Thread(target=worker)\n",
    "t.start()"
   ]
  },
  {
   "cell_type": "markdown",
   "metadata": {},
   "source": [
    "Create a list of slider widgets, one for each joint, to chose the default pose"
   ]
  },
  {
   "cell_type": "code",
   "execution_count": null,
   "metadata": {},
   "outputs": [],
   "source": [
    "import ipywidgets\n",
    "from ipywidgets import FloatSlider, Layout, Button, Box\n",
    "joint_widgets = [FloatSlider(min = j.min, max = j.max, step = (j.max-j.min) / 100, description = j.name) \\\n",
    "                 for j in c.robot.active_joints]\n",
    "joint_weights = [FloatSlider(min = 0, max = 1, step = 0.01, value = 1, description = j.name) \\\n",
    "                 for j in c.robot.active_joints]\n",
    "task_dimensions = ['x', 'y', 'z', 'rx', 'ry', 'rz']\n",
    "task_weights = [FloatSlider(min = 0, max = 1, step = 0.01, value = 1, description = name) \\\n",
    "                for name in task_dimensions]"
   ]
  },
  {
   "cell_type": "markdown",
   "metadata": {},
   "source": [
    "React to slider (value) changes by adapting the default joint pose"
   ]
  },
  {
   "cell_type": "code",
   "execution_count": null,
   "metadata": {},
   "outputs": [],
   "source": [
    "def on_joint_preference(event):\n",
    "    widget = event.owner\n",
    "    c.preferred_joints[c.joint_msg.name.index(widget.description)] = widget.value\n",
    "\n",
    "for widget in joint_widgets:\n",
    "    widget.observe(on_joint_preference, 'value')"
   ]
  },
  {
   "cell_type": "code",
   "execution_count": null,
   "metadata": {},
   "outputs": [],
   "source": [
    "def on_joint_weight(event):\n",
    "    widget = event.owner\n",
    "    c.joint_weights[c.joint_msg.name.index(widget.description)] = widget.value\n",
    "\n",
    "for widget in joint_weights:\n",
    "    widget.observe(on_joint_weight, 'value')"
   ]
  },
  {
   "cell_type": "code",
   "execution_count": null,
   "metadata": {},
   "outputs": [],
   "source": [
    "def on_task_weight(event):\n",
    "    widget = event.owner\n",
    "    c.cartesian_weights[task_dimensions.index(widget.description)] = widget.value\n",
    "\n",
    "for widget in task_weights:\n",
    "    widget.observe(on_task_weight, 'value')"
   ]
  },
  {
   "cell_type": "markdown",
   "metadata": {},
   "source": [
    "Collect all widgets (sliders and buttons) in a form and display them"
   ]
  },
  {
   "cell_type": "code",
   "execution_count": null,
   "metadata": {
    "scrolled": false
   },
   "outputs": [],
   "source": [
    "layout = Layout(display='flex', flex_flow='column', border='solid 2px', align_items='stretch')\n",
    "form = Box([Box(w, layout=layout) for w in [joint_widgets, joint_weights, task_weights]])\n",
    "display(form)"
   ]
  }
 ],
 "metadata": {
  "kernelspec": {
   "display_name": "Python 2",
   "language": "python",
   "name": "python2"
  },
  "language_info": {
   "codemirror_mode": {
    "name": "ipython",
    "version": 2
   },
   "file_extension": ".py",
   "mimetype": "text/x-python",
   "name": "python",
   "nbconvert_exporter": "python",
   "pygments_lexer": "ipython2",
   "version": "2.7.17"
  }
 },
 "nbformat": 4,
 "nbformat_minor": 2
}
